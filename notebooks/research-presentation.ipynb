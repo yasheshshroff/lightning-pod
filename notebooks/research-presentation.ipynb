{
 "cells": [
  {
   "cell_type": "markdown",
   "metadata": {},
   "source": [
    "Use this notebook to create a presentation of your findings i.e. include math concepets with SymPy; interactive visualizations with ipywidgets and Plotly; and to display module and layer summaries with ModelSummary from pytorch_lightning.utilities.model_summary."
   ]
  },
  {
   "cell_type": "code",
   "execution_count": null,
   "metadata": {},
   "outputs": [],
   "source": []
  }
 ],
 "metadata": {
  "language_info": {
   "name": "python"
  },
  "orig_nbformat": 4
 },
 "nbformat": 4,
 "nbformat_minor": 2
}
